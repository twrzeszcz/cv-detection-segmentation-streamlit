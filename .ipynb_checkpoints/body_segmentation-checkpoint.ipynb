{
 "cells": [
  {
   "cell_type": "markdown",
   "metadata": {},
   "source": [
    "## Body segmentation"
   ]
  },
  {
   "cell_type": "markdown",
   "metadata": {},
   "source": [
    "In this notebook I will do a simple image segmentation in the webcam using a *tensorflow bodypix* package. Then with the segmented frame I will replace the background with some image."
   ]
  },
  {
   "cell_type": "markdown",
   "metadata": {},
   "source": [
    "Implementation is taken from [YouTube2](https://www.youtube.com/watch?v=0tB6jG55mig&t=317s)."
   ]
  },
  {
   "cell_type": "code",
   "execution_count": 1,
   "metadata": {},
   "outputs": [],
   "source": [
    "import tensorflow as tf\n",
    "from tf_bodypix.api import download_model, load_model, BodyPixModelPaths\n",
    "import cv2\n",
    "import matplotlib.pyplot as plt\n",
    "import numpy as np"
   ]
  },
  {
   "cell_type": "markdown",
   "metadata": {},
   "source": [
    "Lets first download and load a model."
   ]
  },
  {
   "cell_type": "code",
   "execution_count": 2,
   "metadata": {},
   "outputs": [],
   "source": [
    "bodypix_model = load_model(download_model(BodyPixModelPaths.MOBILENET_FLOAT_50_STRIDE_16))"
   ]
  },
  {
   "cell_type": "markdown",
   "metadata": {},
   "source": [
    "Then we can use it directly on frames from our webcam to get the segmentation masks (we can also specify the detection threshold). Using a *cv2.bitwise_and* function we can apply the mask on the frame and then display the masked frame."
   ]
  },
  {
   "cell_type": "code",
   "execution_count": 9,
   "metadata": {},
   "outputs": [],
   "source": [
    "cap = cv2.VideoCapture(0) \n",
    "\n",
    "while cap.isOpened(): \n",
    "    ret, frame = cap.read()\n",
    "\n",
    "    result = bodypix_model.predict_single(frame)\n",
    "    mask = result.get_mask(threshold=0.8).numpy().astype(np.uint8)\n",
    "    masked_image = cv2.bitwise_and(frame, frame, mask=mask)\n",
    "    \n",
    "    cv2.imshow('Webcam', masked_image)\n",
    "    \n",
    "    if cv2.waitKey(10) & 0xFF == ord('q'):\n",
    "        break\n",
    "\n",
    "cap.release()\n",
    "cv2.destroyAllWindows()"
   ]
  },
  {
   "cell_type": "markdown",
   "metadata": {},
   "source": [
    "Now we can add an image as a background. To do this we have to load some image (and also resize to the webcam size) and do the same *bitwise_and* operation but now with the inverted mask so that the area that is not segmented as a person is covered with the corresponding part of the image. Finally our masked frame and masked background image have to be added and we can display the resulting modified frame."
   ]
  },
  {
   "cell_type": "code",
   "execution_count": 3,
   "metadata": {},
   "outputs": [],
   "source": [
    "im = cv2.resize(cv2.imread('beach.jpg'), (640, 480))\n",
    "plt.imshow(im)"
   ]
  },
  {
   "cell_type": "code",
   "execution_count": 13,
   "metadata": {},
   "outputs": [],
   "source": [
    "cap = cv2.VideoCapture(0) \n",
    "\n",
    "while cap.isOpened(): \n",
    "    ret, frame = cap.read()\n",
    "\n",
    "    result = bodypix_model.predict_single(frame)\n",
    "    mask = result.get_mask(threshold=0.5).numpy().astype(np.uint8)\n",
    "    masked_image = cv2.bitwise_and(frame, frame, mask=mask)\n",
    "    \n",
    "    inverse_mask = np.abs(result.get_mask(threshold=0.5).numpy() - 1).astype(np.uint8)\n",
    "    masked_background = cv2.bitwise_and(im, im, mask=inverse_mask)\n",
    "    final = cv2.add(masked_image, masked_background)\n",
    "    \n",
    "    cv2.imshow('Webcam', final)\n",
    "    \n",
    "    if cv2.waitKey(10) & 0xFF == ord('q'):\n",
    "        break\n",
    "\n",
    "cap.release()\n",
    "cv2.destroyAllWindows()"
   ]
  }
 ],
 "metadata": {
  "kernelspec": {
   "display_name": "body_lan_seg_env",
   "language": "python",
   "name": "body_lan_seg_env"
  },
  "language_info": {
   "codemirror_mode": {
    "name": "ipython",
    "version": 3
   },
   "file_extension": ".py",
   "mimetype": "text/x-python",
   "name": "python",
   "nbconvert_exporter": "python",
   "pygments_lexer": "ipython3",
   "version": "3.8.5"
  }
 },
 "nbformat": 4,
 "nbformat_minor": 4
}
